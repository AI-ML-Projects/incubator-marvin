{
 "cells": [
  {
   "cell_type": "code",
   "execution_count": 2,
   "metadata": {},
   "outputs": [],
   "source": [
    "from itertools import chain\n",
    "\n",
    "import nltk\n",
    "import sklearn\n",
    "import scipy.stats\n",
    "from sklearn.metrics import make_scorer\n",
    "from sklearn.cross_validation import cross_val_score\n",
    "from sklearn.grid_search import RandomizedSearchCV\n",
    "\n",
    "import sklearn_crfsuite\n",
    "from sklearn_crfsuite import scorers\n",
    "from sklearn_crfsuite import metrics"
   ]
  },
  {
   "cell_type": "markdown",
   "metadata": {},
   "source": [
    "# Named-Entity-Recognition example to Marvin framework"
   ]
  },
  {
   "cell_type": "markdown",
   "metadata": {},
   "source": [
    "## Data Handler\n",
    "### Acquisitor and Cleanning Action"
   ]
  },
  {
   "cell_type": "code",
   "execution_count": 3,
   "metadata": {},
   "outputs": [
    {
     "name": "stdout",
     "output_type": "stream",
     "text": [
      "[nltk_data] Downloading package conll2002 to\n",
      "[nltk_data]     /home/erick/marvin/data...\n",
      "[nltk_data]   Package conll2002 is already up-to-date!\n"
     ]
    }
   ],
   "source": [
    "import os\n",
    "nltk.download(info_or_id='conll2002', download_dir=os.environ[\"MARVIN_DATA_PATH\"])\n",
    "train_sents = list(nltk.corpus.conll2002.iob_sents('esp.train'))\n",
    "test_sents = list(nltk.corpus.conll2002.iob_sents('esp.testb'))"
   ]
  },
  {
   "cell_type": "markdown",
   "metadata": {},
   "source": [
    "### Training Preparator Action (features preparation)"
   ]
  },
  {
   "cell_type": "code",
   "execution_count": 71,
   "metadata": {},
   "outputs": [],
   "source": [
    "def word2features(sent, i):\n",
    "    word = sent[i][0]\n",
    "    postag = sent[i][1]\n",
    "    \n",
    "    features = {\n",
    "        'bias': 1.0,\n",
    "        'word.lower()': word.lower(),\n",
    "        'word[-3:]': word[-3:],\n",
    "        'word[-2:]': word[-2:],\n",
    "        'word.isupper()': word.isupper(),\n",
    "        'word.istitle()': word.istitle(),\n",
    "        'word.isdigit()': word.isdigit(),\n",
    "        'postag': postag,\n",
    "        'postag[:2]': postag[:2],        \n",
    "    }\n",
    "    if i > 0:\n",
    "        word1 = sent[i-1][0]\n",
    "        postag1 = sent[i-1][1]\n",
    "        features.update({\n",
    "            '-1:word.lower()': word1.lower(),\n",
    "            '-1:word.istitle()': word1.istitle(),\n",
    "            '-1:word.isupper()': word1.isupper(),\n",
    "            '-1:postag': postag1,\n",
    "            '-1:postag[:2]': postag1[:2],\n",
    "        })\n",
    "    else:\n",
    "        features['BOS'] = True\n",
    "        \n",
    "    if i < len(sent)-1:\n",
    "        word1 = sent[i+1][0]\n",
    "        postag1 = sent[i+1][1]\n",
    "        features.update({\n",
    "            '+1:word.lower()': word1.lower(),\n",
    "            '+1:word.istitle()': word1.istitle(),\n",
    "            '+1:word.isupper()': word1.isupper(),\n",
    "            '+1:postag': postag1,\n",
    "            '+1:postag[:2]': postag1[:2],\n",
    "        })\n",
    "    else:\n",
    "        features['EOS'] = True\n",
    "                \n",
    "    return features\n",
    "\n",
    "\n",
    "def sent2features(sent):\n",
    "    return [word2features(sent, i) for i in range(len(sent))]\n",
    "\n",
    "def sent2labels(sent):\n",
    "    return [label for token, postag, label in sent]\n",
    "\n",
    "def sent2tokens(sent):\n",
    "    return [token for token, postag, label in sent]\n",
    "\n",
    "\n",
    "X_train = [sent2features(s) for s in train_sents]\n",
    "y_train = [sent2labels(s) for s in train_sents]\n",
    "\n",
    "X_test = [sent2features(s) for s in test_sents]\n",
    "y_test = [sent2labels(s) for s in test_sents]"
   ]
  },
  {
   "cell_type": "code",
   "execution_count": 75,
   "metadata": {},
   "outputs": [
    {
     "data": {
      "text/plain": [
       "[(u'En', u'SP', u'O'),\n",
       " (u'declaraciones', u'NC', u'O'),\n",
       " (u'a', u'SP', u'O'),\n",
       " (u'Efe', u'NC', u'B-ORG'),\n",
       " (u',', u'Fc', u'O'),\n",
       " (u'el', u'DA', u'O'),\n",
       " (u'alcalde', u'NC', u'O'),\n",
       " (u'de', u'SP', u'O'),\n",
       " (u'Ar\\xe9valo', u'NC', u'B-LOC'),\n",
       " (u',', u'Fc', u'O'),\n",
       " (u'Francisco', u'AQ', u'B-PER'),\n",
       " (u'Le\\xf3n', u'NC', u'I-PER'),\n",
       " (u'(', u'Fpa', u'O'),\n",
       " (u'PSOE', u'NP', u'B-ORG'),\n",
       " (u')', u'Fpt', u'O'),\n",
       " (u',', u'Fc', u'O'),\n",
       " (u'lament\\xf3', u'VMI', u'O'),\n",
       " (u'la', u'DA', u'O'),\n",
       " (u'\"', u'Fe', u'O'),\n",
       " (u'tardanza', u'NC', u'O'),\n",
       " (u'\"', u'Fe', u'O'),\n",
       " (u'de', u'SP', u'O'),\n",
       " (u'la', u'DA', u'O'),\n",
       " (u'Consejer\\xeda', u'NC', u'B-ORG'),\n",
       " (u'de', u'SP', u'I-ORG'),\n",
       " (u'Fomento', u'NC', u'I-ORG'),\n",
       " (u'en', u'SP', u'O'),\n",
       " (u'la', u'DA', u'O'),\n",
       " (u'entrega', u'NC', u'O'),\n",
       " (u'de', u'SP', u'O'),\n",
       " (u'las', u'DA', u'O'),\n",
       " (u'llaves', u'NC', u'O'),\n",
       " (u'de', u'SP', u'O'),\n",
       " (u'las', u'DA', u'O'),\n",
       " (u'viviendas', u'NC', u'O'),\n",
       " (u'a', u'SP', u'O'),\n",
       " (u'sus', u'DP', u'O'),\n",
       " (u'leg\\xedtimos', u'AQ', u'O'),\n",
       " (u'propietarios', u'NC', u'O'),\n",
       " (u'ya', u'RG', u'O'),\n",
       " (u'que', u'CS', u'O'),\n",
       " (u'han', u'VAI', u'O'),\n",
       " (u'transcurrido', u'VMP', u'O'),\n",
       " (u'm\\xe1s', u'RG', u'O'),\n",
       " (u'de', u'SP', u'O'),\n",
       " (u'dos', u'DN', u'O'),\n",
       " (u'meses', u'NC', u'O'),\n",
       " (u'desde', u'SP', u'O'),\n",
       " (u'que', u'PR', u'O'),\n",
       " (u'se', u'P0', u'O'),\n",
       " (u'resolviera', u'VMS', u'O'),\n",
       " (u'el', u'DA', u'O'),\n",
       " (u'concurso', u'NC', u'O'),\n",
       " (u'de', u'SP', u'O'),\n",
       " (u'adjudicaci\\xf3n', u'NC', u'O'),\n",
       " (u'.', u'Fp', u'O')]"
      ]
     },
     "execution_count": 75,
     "metadata": {},
     "output_type": "execute_result"
    }
   ],
   "source": [
    "test_sents[8]"
   ]
  },
  {
   "cell_type": "markdown",
   "metadata": {},
   "source": [
    "### Training Action"
   ]
  },
  {
   "cell_type": "code",
   "execution_count": 5,
   "metadata": {},
   "outputs": [
    {
     "data": {
      "text/plain": [
       "CRF(algorithm='lbfgs', all_possible_states=None,\n",
       "  all_possible_transitions=True, averaging=None, c=None, c1=0.107899646079,\n",
       "  c2=0.0824222649273, calibration_candidates=None, calibration_eta=None,\n",
       "  calibration_max_trials=None, calibration_rate=None,\n",
       "  calibration_samples=None, delta=None, epsilon=None, error_sensitive=None,\n",
       "  gamma=None, keep_tempfiles=None, linesearch=None, max_iterations=100,\n",
       "  max_linesearch=None, min_freq=None, model_filename=None,\n",
       "  num_memories=None, pa_type=None, period=None, trainer_cls=None,\n",
       "  variance=None, verbose=False)"
      ]
     },
     "execution_count": 5,
     "metadata": {},
     "output_type": "execute_result"
    }
   ],
   "source": [
    "crf = sklearn_crfsuite.CRF(\n",
    "    algorithm='lbfgs', \n",
    "    c1=0.10789964607864502, \n",
    "    c2=0.082422264927260847, \n",
    "    max_iterations=100, \n",
    "    all_possible_transitions=True\n",
    ")\n",
    "crf.fit(X_train, y_train)"
   ]
  },
  {
   "cell_type": "markdown",
   "metadata": {},
   "source": [
    "### Evaluator Action"
   ]
  },
  {
   "cell_type": "code",
   "execution_count": 6,
   "metadata": {},
   "outputs": [
    {
     "data": {
      "text/plain": [
       "0.79760762520912232"
      ]
     },
     "execution_count": 6,
     "metadata": {},
     "output_type": "execute_result"
    }
   ],
   "source": [
    "labels = list(crf.classes_)\n",
    "labels.remove('O')\n",
    "labels\n",
    "y_pred = crf.predict(X_test)\n",
    "metrics.flat_f1_score(y_test, y_pred, \n",
    "                      average='weighted', labels=labels)"
   ]
  },
  {
   "cell_type": "code",
   "execution_count": 65,
   "metadata": {},
   "outputs": [],
   "source": [
    "index = 2\n",
    "y_pred = crf.predict([X_test[index]])\n",
    "sentence = []\n",
    "entities = {}\n",
    "for i, token in enumerate(X_test[index]):\n",
    "    word = token[\"word.lower()\"]\n",
    "    sentence.append(word)\n",
    "    \n",
    "    label = y_pred[0][i]\n",
    "    if label != \"O\":\n",
    "        if label in entities:\n",
    "            entities[label].append(word)\n",
    "        else:\n",
    "            entities[label] = [word]"
   ]
  },
  {
   "cell_type": "code",
   "execution_count": 70,
   "metadata": {},
   "outputs": [
    {
     "name": "stdout",
     "output_type": "stream",
     "text": [
      "Sentence: las reservas \" on line \" de billetes aéreos a través de internet aumentaron en españa un 300 por ciento en el primer trimestre de este año con respecto al mismo período de 1999 , aseguró hoy iñigo garcía aranda , responsable de comunicación de savia amadeus .\n",
      "\n",
      "Entities found:\n",
      "B-MISC -> internet\n",
      "I-LOC -> amadeus\n",
      "B-PER -> iñigo\n",
      "B-LOC -> españa savia\n",
      "I-PER -> garcía aranda\n"
     ]
    }
   ],
   "source": [
    "print 'Sentence: ' + ' '.join(sentence)\n",
    "print\n",
    "print 'Entities found:'\n",
    "for k, v in entities.items():\n",
    "    print k + \" -> \" + ' '.join(v)"
   ]
  },
  {
   "cell_type": "code",
   "execution_count": 8,
   "metadata": {},
   "outputs": [
    {
     "name": "stdout",
     "output_type": "stream",
     "text": [
      "             precision    recall  f1-score   support\n",
      "\n",
      "      B-LOC      0.806     0.784     0.795      1084\n",
      "      I-LOC      0.697     0.631     0.662       325\n",
      "     B-MISC      0.749     0.555     0.637       339\n",
      "     I-MISC      0.743     0.582     0.653       557\n",
      "      B-ORG      0.807     0.835     0.821      1400\n",
      "      I-ORG      0.841     0.800     0.820      1104\n",
      "      B-PER      0.845     0.887     0.865       735\n",
      "      I-PER      0.894     0.940     0.916       634\n",
      "\n",
      "avg / total      0.812     0.788     0.798      6178\n",
      "\n"
     ]
    }
   ],
   "source": [
    "sorted_labels = sorted(\n",
    "    labels, \n",
    "    key=lambda name: (name[1:], name[0])\n",
    ")\n",
    "print(metrics.flat_classification_report(\n",
    "    y_test, y_pred, labels=sorted_labels, digits=3\n",
    "))"
   ]
  },
  {
   "cell_type": "markdown",
   "metadata": {},
   "source": [
    "### Prediction"
   ]
  },
  {
   "cell_type": "code",
   "execution_count": 9,
   "metadata": {},
   "outputs": [
    {
     "name": "stdout",
     "output_type": "stream",
     "text": [
      "Top likely transitions:\n",
      "B-ORG  -> I-ORG   7.509195\n",
      "I-ORG  -> I-ORG   7.286281\n",
      "B-MISC -> I-MISC  6.657995\n",
      "I-MISC -> I-MISC  6.611249\n",
      "B-PER  -> I-PER   6.455306\n",
      "B-LOC  -> I-LOC   5.592603\n",
      "I-LOC  -> I-LOC   4.883487\n",
      "I-PER  -> I-PER   4.879621\n",
      "O      -> O       3.864632\n",
      "O      -> B-ORG   2.824896\n",
      "O      -> B-PER   2.406219\n",
      "O      -> B-LOC   1.918864\n",
      "O      -> B-MISC  1.825806\n",
      "B-LOC  -> B-LOC   0.410911\n",
      "B-ORG  -> O       0.384361\n",
      "I-PER  -> B-LOC   0.362426\n",
      "B-ORG  -> B-LOC   0.236403\n",
      "B-MISC -> B-ORG   0.136150\n",
      "B-MISC -> O       -0.157301\n",
      "B-LOC  -> B-PER   -0.219753\n",
      "\n",
      "Top unlikely transitions:\n",
      "B-LOC  -> B-MISC  -2.094940\n",
      "B-ORG  -> B-ORG   -2.117205\n",
      "B-ORG  -> I-LOC   -2.122777\n",
      "I-ORG  -> I-PER   -2.205134\n",
      "I-ORG  -> B-LOC   -2.272456\n",
      "I-PER  -> I-LOC   -2.403253\n",
      "I-MISC -> B-LOC   -2.433610\n",
      "B-PER  -> B-MISC  -2.511643\n",
      "I-ORG  -> B-MISC  -2.595139\n",
      "I-ORG  -> I-LOC   -2.655252\n",
      "B-ORG  -> B-MISC  -2.673500\n",
      "I-PER  -> B-ORG   -2.686785\n",
      "I-MISC -> I-LOC   -2.837655\n",
      "I-PER  -> B-MISC  -2.930608\n",
      "B-PER  -> B-PER   -3.123099\n",
      "B-MISC -> B-MISC  -3.289433\n",
      "O      -> I-MISC  -5.085199\n",
      "O      -> I-ORG   -5.346934\n",
      "O      -> I-PER   -5.598974\n",
      "O      -> I-LOC   -6.123247\n"
     ]
    }
   ],
   "source": [
    "from collections import Counter\n",
    "\n",
    "def print_transitions(trans_features):\n",
    "    for (label_from, label_to), weight in trans_features:\n",
    "        print(\"%-6s -> %-7s %0.6f\" % (label_from, label_to, weight))\n",
    "\n",
    "print(\"Top likely transitions:\")\n",
    "print_transitions(Counter(crf.transition_features_).most_common(20))\n",
    "\n",
    "print(\"\\nTop unlikely transitions:\")\n",
    "print_transitions(Counter(crf.transition_features_).most_common()[-20:])"
   ]
  },
  {
   "cell_type": "code",
   "execution_count": 10,
   "metadata": {},
   "outputs": [
    {
     "name": "stdout",
     "output_type": "stream",
     "text": [
      "Top positive:\n",
      "10.050768 B-ORG    word.lower():efe-cantabria\n",
      "8.978537 B-ORG    word.lower():psoe-progresistas\n",
      "6.302095 I-ORG    -1:word.lower():l\n",
      "5.194187 B-ORG    word.lower():petrobras\n",
      "5.180269 O        BOS\n",
      "5.077409 B-ORG    word.lower():xfera\n",
      "4.992312 B-LOC    -1:word.lower():cantabria\n",
      "4.930629 B-MISC   word.lower():diversia\n",
      "4.914647 B-ORG    word[-2:]:-e\n",
      "4.868154 B-ORG    word.lower():coag-extremadura\n",
      "4.806764 B-ORG    word.lower():telefónica\n",
      "4.787065 O        word.lower():r.\n",
      "4.787065 O        word[-3:]:R.\n",
      "4.695655 B-MISC   word.lower():justicia\n",
      "4.656129 B-MISC   word.lower():competencia\n",
      "4.637028 I-LOC    -1:word.lower():calle\n",
      "4.615657 B-ORG    +1:word.lower():plasencia\n",
      "4.615615 B-ORG    -1:word.lower():distancia\n",
      "4.560780 B-ORG    word.lower():terra\n",
      "4.543435 B-LOC    word.lower():líbano\n",
      "4.527419 I-ORG    -1:word.lower():rasd\n",
      "4.516271 B-PER    -1:word.lower():según\n",
      "4.513310 B-LOC    -1:word.lower():celebrarán\n",
      "4.506090 B-ORG    word.isupper()\n",
      "4.440726 B-ORG    word.lower():esquerra\n",
      "4.366072 B-LOC    +1:word.lower():finalizaron\n",
      "4.263098 B-MISC   word.lower():cc2305001730\n",
      "4.212401 B-PER    word.lower():valedor\n",
      "4.197329 B-PER    word.lower():orduña\n",
      "4.186340 B-MISC   word.lower():derecho\n",
      "\n",
      "Top negative:\n",
      "-1.939393 O        word.lower():avenida\n",
      "-1.943904 B-PER    word[-2:]:os\n",
      "-1.962746 B-LOC    word[-3:]:la\n",
      "-1.972859 O        -1:word.lower():sánchez\n",
      "-2.032369 O        -1:word.lower():agora\n",
      "-2.046344 O        word.lower():2000\n",
      "-2.085549 O        -1:word.lower():ong\n",
      "-2.086226 I-PER    word[-3:]:ico\n",
      "-2.099426 I-LOC    BOS\n",
      "-2.178020 I-PER    +1:word.lower():el\n",
      "-2.294334 O        word.lower():061\n",
      "-2.326423 O        -1:word.lower():sección\n",
      "-2.333721 O        +1:word.lower():justicia\n",
      "-2.362049 O        -1:word.lower():británica\n",
      "-2.373969 B-MISC   -1:word.isupper()\n",
      "-2.444648 I-PER    +1:word.lower():del\n",
      "-2.455663 B-PER    word[-3:]:nes\n",
      "-2.514235 O        word[-3:]:bas\n",
      "-2.585072 O        +1:word.lower():plasencia\n",
      "-2.615108 O        word[-2:]:nd\n",
      "-2.712592 O        word[-3:]:730\n",
      "-2.819348 O        word[-3:]:LOS\n",
      "-3.033695 I-PER    -1:word.lower():san\n",
      "-3.140837 O        word.lower():mas\n",
      "-3.272715 O        -1:word.lower():españolas\n",
      "-3.588494 B-PER    -1:word.lower():del\n",
      "-4.151070 O        word[-2:]:om\n",
      "-4.199522 O        -1:word.lower():celebrarán\n",
      "-5.876732 O        word.isupper()\n",
      "-8.289751 O        word.istitle()\n"
     ]
    }
   ],
   "source": [
    "def print_state_features(state_features):\n",
    "    for (attr, label), weight in state_features:\n",
    "        print(\"%0.6f %-8s %s\" % (weight, label, attr))    \n",
    "\n",
    "print(\"Top positive:\")\n",
    "print_state_features(Counter(crf.state_features_).most_common(30))\n",
    "\n",
    "print(\"\\nTop negative:\")\n",
    "print_state_features(Counter(crf.state_features_).most_common()[-30:])"
   ]
  },
  {
   "cell_type": "code",
   "execution_count": null,
   "metadata": {},
   "outputs": [],
   "source": []
  }
 ],
 "metadata": {
  "kernelspec": {
   "display_name": "Python 2",
   "language": "python",
   "name": "python2"
  },
  "language_info": {
   "codemirror_mode": {
    "name": "ipython",
    "version": 2
   },
   "file_extension": ".py",
   "mimetype": "text/x-python",
   "name": "python",
   "nbconvert_exporter": "python",
   "pygments_lexer": "ipython2",
   "version": "2.7.12"
  }
 },
 "nbformat": 4,
 "nbformat_minor": 1
}
